{
  "nbformat": 4,
  "nbformat_minor": 0,
  "metadata": {
    "colab": {
      "provenance": [],
      "authorship_tag": "ABX9TyPvBArTP4xoKu7LZZuSDFuq",
      "include_colab_link": true
    },
    "kernelspec": {
      "name": "python3",
      "display_name": "Python 3"
    },
    "language_info": {
      "name": "python"
    }
  },
  "cells": [
    {
      "cell_type": "markdown",
      "metadata": {
        "id": "view-in-github",
        "colab_type": "text"
      },
      "source": [
        "<a href=\"https://colab.research.google.com/github/LuisBenitez10/FunProgMec_349810_Taller2/blob/main/Solucion_Taller2.ipynb\" target=\"_parent\"><img src=\"https://colab.research.google.com/assets/colab-badge.svg\" alt=\"Open In Colab\"/></a>"
      ]
    },
    {
      "cell_type": "markdown",
      "source": [
        "##Taller 2\n",
        "\n",
        "##Fundamentos de Programacion-Ingeneria Mecanica\n",
        "\n",
        "> Estudiante: Luis Benitez\n",
        "\n",
        "> ID: 000349810\n",
        "\n",
        "> Email: luis.benitezr@upb.edu.co "
      ],
      "metadata": {
        "id": "ghQbwXs5spG0"
      }
    },
    {
      "cell_type": "code",
      "execution_count": 7,
      "metadata": {
        "colab": {
          "base_uri": "https://localhost:8080/"
        },
        "id": "XvoSpDtUsanU",
        "outputId": "ed2b648b-ac27-43ce-a095-c8c503e3e22b"
      },
      "outputs": [
        {
          "output_type": "stream",
          "name": "stdout",
          "text": [
            "5.0\n",
            "105.0\n"
          ]
        }
      ],
      "source": [
        "# crea e imprima las siguientes variables:\n",
        "\n",
        "t_1 = 0\n",
        "t_2 = 5 \n",
        "x_0 = 3\n",
        "v_0 = 5\n",
        "a = 6\n",
        "c = 1/2\n",
        "x_1 = v_0 + v_0*t_1 + c*a*t_1**2\n",
        "x_2 = v_0 + v_0*t_2 + c*a*t_2**2\n",
        "print(x_1)\n",
        "print(x_2) \n",
        "\n",
        "\n"
      ]
    },
    {
      "cell_type": "code",
      "source": [],
      "metadata": {
        "id": "s6bBmjgf3OZX"
      },
      "execution_count": null,
      "outputs": []
    }
  ]
}